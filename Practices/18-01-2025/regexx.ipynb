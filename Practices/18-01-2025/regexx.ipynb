{
 "cells": [
  {
   "cell_type": "code",
   "execution_count": 2,
   "metadata": {},
   "outputs": [],
   "source": [
    "#Python package to evaluate regular expressions\n",
    "import re"
   ]
  },
  {
   "cell_type": "markdown",
   "metadata": {},
   "source": [
    "Compile a pattern"
   ]
  },
  {
   "cell_type": "code",
   "execution_count": 2,
   "metadata": {},
   "outputs": [
    {
     "name": "stdout",
     "output_type": "stream",
     "text": [
      "['1', '2', '3']\n"
     ]
    }
   ],
   "source": [
    "pattern = \"[0-9]\" #Match any digit\n",
    "compiled_pattern = re.compile(pattern)\n",
    "\n",
    "#Probar el patron\n",
    "text = \"1 a 2 b 3 c\"\n",
    "\n",
    "# match the pattern any substring\n",
    "\n",
    "matches = compiled_pattern.findall(text)\n",
    "\n",
    "print(matches)"
   ]
  },
  {
   "cell_type": "code",
   "execution_count": 4,
   "metadata": {},
   "outputs": [
    {
     "name": "stdout",
     "output_type": "stream",
     "text": [
      "['1', '2', '3', '4']\n"
     ]
    }
   ],
   "source": [
    "pattern = \"[0-9]\" #Match any digit\n",
    "compiled_pattern = re.compile(pattern)\n",
    "\n",
    "#Probar el patron\n",
    "text = \"1 a 2 b 34 c\"\n",
    "\n",
    "# match the pattern any substring\n",
    "\n",
    "matches = compiled_pattern.findall(text)\n",
    "\n",
    "print(matches)"
   ]
  },
  {
   "cell_type": "code",
   "execution_count": 6,
   "metadata": {},
   "outputs": [
    {
     "name": "stdout",
     "output_type": "stream",
     "text": [
      "['1', '2', '34']\n"
     ]
    }
   ],
   "source": [
    "pattern = \"[0-9][0-9]\" #Match two digits\n",
    "compiled_pattern = re.compile(pattern)\n",
    "\n",
    "#Probar el patron\n",
    "text = \"1 a 2 b 34 c\"\n",
    "\n",
    "# match the pattern any substring\n",
    "\n",
    "matches = compiled_pattern.findall(text)\n",
    "\n",
    "print(matches)"
   ]
  },
  {
   "cell_type": "code",
   "execution_count": 8,
   "metadata": {},
   "outputs": [
    {
     "name": "stdout",
     "output_type": "stream",
     "text": [
      "['1', '2', '34', '234567']\n"
     ]
    }
   ],
   "source": [
    "pattern = \"[0-9]+\" #Match numbers with one or more digits\n",
    "compiled_pattern = re.compile(pattern)\n",
    "\n",
    "#Probar el patron\n",
    "text = \"1 a 2 b 34 c 234567\"\n",
    "\n",
    "# match the pattern any substring\n",
    "\n",
    "matches = compiled_pattern.findall(text)\n",
    "\n",
    "print(matches)"
   ]
  },
  {
   "cell_type": "code",
   "execution_count": 9,
   "metadata": {},
   "outputs": [
    {
     "name": "stdout",
     "output_type": "stream",
     "text": [
      "['a', 'b', 'c']\n"
     ]
    }
   ],
   "source": [
    "# check letters\n",
    "\n",
    "pattern = \"[a-z]\" #Match one letter\n",
    "compiled_pattern = re.compile(pattern)\n",
    "\n",
    "#Probar el patron\n",
    "text = \"1 a 2 b 34 c 234567\"\n",
    "\n",
    "# match the pattern any substring\n",
    "\n",
    "matches = compiled_pattern.findall(text)\n",
    "\n",
    "print(matches)"
   ]
  },
  {
   "cell_type": "code",
   "execution_count": 10,
   "metadata": {},
   "outputs": [
    {
     "name": "stdout",
     "output_type": "stream",
     "text": [
      "['a', 'b', 'cgfd', 'asdas', 'a', 'f', 'b']\n"
     ]
    }
   ],
   "source": [
    "# check letters\n",
    "\n",
    "pattern = \"[a-z]+\" #Match one or more letters\n",
    "compiled_pattern = re.compile(pattern)\n",
    "\n",
    "#Probar el patron\n",
    "text = \"1 a 2 b 34 cgfd 234567 asdas a f b\"\n",
    "\n",
    "# match the pattern any substring\n",
    "\n",
    "matches = compiled_pattern.findall(text)\n",
    "\n",
    "print(matches)"
   ]
  },
  {
   "cell_type": "code",
   "execution_count": 21,
   "metadata": {},
   "outputs": [
    {
     "name": "stdout",
     "output_type": "stream",
     "text": [
      "['Variable1', 'Variable2', 'variable3', 'var1', 'a', 'afa']\n"
     ]
    }
   ],
   "source": [
    "# check variable names\n",
    "\n",
    "pattern_variable = r\"\\b[a-zA-Z]+[a-zA-Z|0-9|_]*\\b\" #Match variable names\n",
    "compiled_pattern = re.compile(pattern_variable)\n",
    "\n",
    "#Probar el patron\n",
    "text = \"Variable1 Variable2 variable3 1Var var1 a afa _a\"\n",
    "\n",
    "# match the pattern any substring\n",
    "\n",
    "matches = compiled_pattern.findall(text)\n",
    "\n",
    "print(matches)"
   ]
  },
  {
   "cell_type": "code",
   "execution_count": 28,
   "metadata": {},
   "outputs": [
    {
     "name": "stdout",
     "output_type": "stream",
     "text": [
      "['var_1 ', ' var_2 ', ' 1a23 ', ' var3']\n",
      "var_1  is a valid token\n",
      "var_2  is a valid token\n",
      "ERROR\n"
     ]
    }
   ],
   "source": [
    "# split an aritmetic expression\n",
    "pattern = r\"[=|+|\\-|*|/]\"\n",
    "compiled_aritmetic = re.compile(pattern)\n",
    "\n",
    "#Probar el patron\n",
    "text = \"var_1 = var_2 + 1a23 - var3\"\n",
    "\n",
    "#split the expression based on aritmetic operators\n",
    "split_result = re.split(compiled_aritmetic, text)\n",
    "\n",
    "print(split_result)\n",
    "\n",
    "# calidate if variable or number\n",
    "for token in split_result:\n",
    "    token = token.strip() # remove white spaces\n",
    "    if re.match(pattern_variable, token) or re.match(r\"\\b[0-9]+\\b\", token):\n",
    "        print(token, \" is a valid token\")\n",
    "    else:\n",
    "        print(\"ERROR\")\n",
    "        break"
   ]
  },
  {
   "cell_type": "code",
   "execution_count": 3,
   "metadata": {},
   "outputs": [
    {
     "name": "stdout",
     "output_type": "stream",
     "text": [
      "Conditional is not valid\n"
     ]
    }
   ],
   "source": [
    "# validate a logal operation\n",
    "def validate_logic_operation(code_segment):\n",
    "    print(\"Validating logic operation\")\n",
    "\n",
    "# validate conditional\n",
    "def validate_conditional(code_segment):\n",
    "    result = False\n",
    "    \n",
    "    patter_start = r\"if\"\n",
    "    check_if = re.match(patter_start, code_segment)\n",
    "    if check_if:\n",
    "        pass\n",
    "\n",
    "    return result\n",
    "\n",
    "text = \"if(var1==1){x=5;}else{y=6;}\"\n",
    "if validate_conditional(text):\n",
    "    print(\"Conditional is valid\")\n",
    "else:\n",
    "    print(\"Conditional is not valid\")"
   ]
  },
  {
   "cell_type": "code",
   "execution_count": 14,
   "metadata": {},
   "outputs": [],
   "source": [
    "#Definir los tokens\n",
    "TOKEN_TYPES = [\n",
    "    ('KEYWORD', r'\\b(if|else|while|for|do|break|continue|return)\\b'),\n",
    "    ('IDENTIFIER', r'\\b[a-zA-Z]+[a-zA-Z|0-9|_]*\\b'),\n",
    "    ('NUMBER', r'\\b[0-9]+\\b'),\n",
    "    ('OPERATOR', r'[+\\-*/=<>!]+'),\n",
    "    ('PUNCTUATION', r'[{}();,]'),\n",
    "    ('WHITESPACE', r'\\s+'),\n",
    "    #Comment with double \"//\"\n",
    "    ('COMMENT', r'//.*'),\n",
    "]"
   ]
  },
  {
   "cell_type": "code",
   "execution_count": 20,
   "metadata": {},
   "outputs": [
    {
     "name": "stdout",
     "output_type": "stream",
     "text": [
      "[('KEYWORD', 'if'), ('IDENTIFIER', 'x'), ('OPERATOR', '=='), ('NUMBER', '1'), ('IDENTIFIER', 'x'), ('OPERATOR', '='), ('NUMBER', '5'), ('KEYWORD', 'else'), ('IDENTIFIER', 'y'), ('OPERATOR', '='), ('NUMBER', '6'), ('OPERATOR', '//'), ('IDENTIFIER', 'comment')]\n"
     ]
    }
   ],
   "source": [
    "#lexer code\n",
    "def lexer(code):\n",
    "    tokens = []\n",
    "    position = 0\n",
    "\n",
    "    while position < len(code):\n",
    "        match = None #Offset\n",
    "        for token_type, pattern in TOKEN_TYPES:\n",
    "            regex = re.compile(pattern)\n",
    "            match = regex.match(code, position)\n",
    "            if match:\n",
    "                value = match.group(0)\n",
    "                if token_type != 'WHITESPACE' and token_type != 'COMMENT':\n",
    "                    tokens.append((token_type, value)) # token , lexeme\n",
    "                position = match.end(0)\n",
    "                break\n",
    "        if not match:\n",
    "            raise Exception(f'Unexpected character {code[position]} at position {position}')\n",
    "    return tokens\n",
    "\n",
    "#Test the lexer\n",
    "code = \"\"\"if x==1\n",
    "x=5\n",
    "else\n",
    "y=6 //comment\"\"\"\n",
    "tokens = lexer(code)\n",
    "print(tokens)\n"
   ]
  },
  {
   "cell_type": "code",
   "execution_count": null,
   "metadata": {},
   "outputs": [],
   "source": []
  }
 ],
 "metadata": {
  "kernelspec": {
   "display_name": ".venv",
   "language": "python",
   "name": "python3"
  },
  "language_info": {
   "codemirror_mode": {
    "name": "ipython",
    "version": 3
   },
   "file_extension": ".py",
   "mimetype": "text/x-python",
   "name": "python",
   "nbconvert_exporter": "python",
   "pygments_lexer": "ipython3",
   "version": "3.13.0"
  }
 },
 "nbformat": 4,
 "nbformat_minor": 2
}
